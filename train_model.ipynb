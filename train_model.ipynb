{
 "cells": [
  {
   "cell_type": "markdown",
   "metadata": {},
   "source": [
    "# Import necessary library"
   ]
  },
  {
   "cell_type": "code",
   "execution_count": 221,
   "metadata": {},
   "outputs": [],
   "source": [
    "import numpy as np # linear algebra\n",
    "import pandas as pd # data processing, CSV file I/O (e.g. pd.read_csv)\n",
    "import matplotlib.pyplot as plt\n",
    "import seaborn as sns\n",
    "from sklearn.preprocessing import RobustScaler\n",
    "from sklearn.pipeline import Pipeline\n",
    "from sklearn.model_selection import KFold\n",
    "from scipy.stats import skew, norm, zscore\n",
    "from sklearn.model_selection import cross_val_score\n",
    "from xgboost import XGBRegressor\n",
    "from catboost import CatBoostRegressor\n",
    "from sklearn.ensemble import RandomForestRegressor\n",
    "from lightgbm import LGBMRegressor\n",
    "from sklearn.linear_model import LassoCV\n",
    "from sklearn.linear_model import ElasticNetCV\n",
    "from sklearn import linear_model\n",
    "from sklearn.svm import LinearSVR\n",
    "from sklearn.ensemble import GradientBoostingRegressor\n",
    "from sklearn.linear_model import RidgeCV\n",
    "from sklearn.linear_model import LinearRegression\n",
    "from sklearn.ensemble import StackingRegressor\n",
    "from sklearn.preprocessing import PowerTransformer\n",
    "from sklearn.model_selection import learning_curve\n",
    "from sklearn.model_selection import validation_curve\n",
    "from sklearn.preprocessing import PolynomialFeatures\n",
    "import os\n",
    "%matplotlib inline\n",
    "import warnings\n",
    "warnings.filterwarnings(\"ignore\")\n",
    "\n",
    "pd.set_option('display.max_rows', None)\n",
    "pd.set_option('display.max_columns', None)"
   ]
  },
  {
   "cell_type": "markdown",
   "metadata": {},
   "source": [
    "# Explore data"
   ]
  },
  {
   "cell_type": "code",
   "execution_count": 222,
   "metadata": {},
   "outputs": [],
   "source": [
    "# Read train and test data\n",
    "train = pd.read_csv(\"train.csv\", index_col=0)\n",
    "test = pd.read_csv(\"test.csv\", index_col=0)\n",
    "\n",
    "# Combine train and test data for data cleaning\n",
    "y = train.SalePrice\n",
    "train = train.drop(\"SalePrice\", axis=1)\n",
    "\n",
    "train[\"train_test\"] = 1\n",
    "test[\"train_test\"] = 0\n",
    "\n",
    "X = pd.concat([train, test])\n",
    "\n",
    "# Create categorical columns\n",
    "categorical_cols = train.select_dtypes(include=[\"object\"]).columns.tolist()\n",
    "# Create numeric columns\n",
    "numerical_cols = train.select_dtypes(exclude=[\"object\"]).columns.tolist()\n",
    "\n",
    "\"\"\"\n",
    "Split features further: continuous, discrete, ordinal, nominal, alphanumerical and binary\n",
    "\n",
    "Continuous features: 'LotFrontage', 'LotArea', 'MasVnrArea', '\n",
    "    BsmtFinSF1', 'BsmtFinSF2', 'BsmtUnfSF', 'TotalBsmtSF', '1stFlrSF', \n",
    "    '2ndFlrSF', 'LowQualFinSF','GrLivArea', 'GarageArea', 'WoodDeckSF', \n",
    "    'OpenPorchSF', 'EnclosedPorch', '3SsnPorch', 'ScreenPorch', 'PoolArea', 'MiscVal'\n",
    "\n",
    "Discrete features: 'MSSubClass', 'YearBuilt', 'YearRemodAdd', 'TotRmsAbvGrd', \n",
    "    'Fireplaces', 'GarageYrBlt', 'GarageCars', 'MoSold', 'YrSold', 'BsmtFullBath', \n",
    "    'BsmtHalfBath', 'FullBath', 'HalfBath', 'BedroomAbvGr', 'KitchenAbvGr'\n",
    "\n",
    "Ordinal features: 'OverallQual', 'OverallCond', 'LotShape', 'ExterQual', 'ExterCond', \n",
    "    'BsmtQual','BsmtCond', 'BsmtExposure', 'BsmtFinType1', 'BsmtFinType2', 'HeatingQC', \n",
    "    'KitchenQual', 'FireplaceQu', 'GarageFinish', 'GarageQual', 'GarageCond', \n",
    "    'PavedDrive'(Ordinal or nominal?), 'PoolQC', 'Fence'(Ordinal or nominal?)\n",
    "\n",
    "Nominal features: 'MSZoning', 'Street', 'Alley', 'LandContour', 'Utilities', \n",
    "    'LandSlope', 'Neighborhood', 'Condition1','Condition2', 'RoofStyle', 'RoofMatl', \n",
    "    'Exterior1st','Exterior2nd', 'MasVnrType', 'Foundation', 'Heating', 'Electrical', \n",
    "    'Functional', 'GarageType', 'MiscFeature', 'SaleType','SaleCondition', 'MSSubClass'\n",
    "\n",
    "Alphanumerical features: 'LotConfig','BldgType','HouseStyle'\n",
    "\n",
    "Binary features: CentralAir\n",
    "\n",
    "Temp features: train_test\n",
    "\n",
    "N.B. MSSubClass appears to be a discrete features but is infact a nominal one\n",
    "\n",
    "\n",
    "\"\"\"\n",
    "\n",
    "train[\"MSSubClass\"] = train[\"MSSubClass\"].astype(\"str\")\n",
    "test[\"MSSubClass\"] = test[\"MSSubClass\"].astype(\"str\")\n",
    "X[\"MSSubClass\"] = X[\"MSSubClass\"].astype(\"str\")\n",
    "numerical_cols.remove(\"MSSubClass\")\n",
    "categorical_cols.append(\"MSSubClass\")\n",
    "\n",
    "# Continuous: lien tuc\n",
    "cont_features = [\n",
    "    \"LotFrontage\",\n",
    "    \"LotArea\",\n",
    "    \"MasVnrArea\",\n",
    "    \"BsmtFinSF1\",\n",
    "    \"BsmtFinSF2\",\n",
    "    \"BsmtUnfSF\",\n",
    "    \"TotalBsmtSF\",\n",
    "    \"1stFlrSF\",\n",
    "    \"2ndFlrSF\",\n",
    "    \"LowQualFinSF\",\n",
    "    \"GrLivArea\",\n",
    "    \"GarageArea\",\n",
    "    \"WoodDeckSF\",\n",
    "    \"OpenPorchSF\",\n",
    "    \"EnclosedPorch\",\n",
    "    \"3SsnPorch\",\n",
    "    \"ScreenPorch\",\n",
    "    \"PoolArea\",\n",
    "    \"MiscVal\",\n",
    "]\n",
    "\n",
    "# Discrete: roi rac\n",
    "disc_features = [\n",
    "    \"MSSubClass\",\n",
    "    \"YearBuilt\",\n",
    "    \"YearRemodAdd\",\n",
    "    \"TotRmsAbvGrd\",\n",
    "    \"Fireplaces\",\n",
    "    \"GarageYrBlt\",\n",
    "    \"GarageCars\",\n",
    "    \"MoSold\",\n",
    "    \"YrSold\",\n",
    "    \"BsmtFullBath\",\n",
    "    \"BsmtHalfBath\",\n",
    "    \"FullBath\",\n",
    "    \"HalfBath\",\n",
    "    \"BedroomAbvGr\",\n",
    "    \"KitchenAbvGr\",\n",
    "]\n",
    "\n",
    "# Ordinal:\n",
    "ord_features = [\n",
    "    \"OverallQual\",\n",
    "    \"OverallCond\",\n",
    "    \"LotShape\",\n",
    "    \"ExterQual\",\n",
    "    \"ExterCond\",\n",
    "    \"BsmtQual\",\n",
    "    \"BsmtCond\",\n",
    "    \"BsmtExposure\",\n",
    "    \"BsmtFinType1\",\n",
    "    \"BsmtFinType2\",\n",
    "    \"HeatingQC\",\n",
    "    \"KitchenQual\",\n",
    "    \"FireplaceQu\",\n",
    "    \"GarageFinish\",\n",
    "    \"GarageQual\",\n",
    "    \"GarageCond\",\n",
    "    \"PavedDrive\",\n",
    "    \"PoolQC\",\n",
    "    \"Fence\",\n",
    "]\n",
    "\n",
    "# Nominal\n",
    "nom_features = [\n",
    "    \"MSSubClass\",\n",
    "    \"MSZoning\",\n",
    "    \"Street\",\n",
    "    \"Alley\",\n",
    "    \"LandContour\",\n",
    "    \"Utilities\",\n",
    "    \"LandSlope\",\n",
    "    \"Neighborhood\",\n",
    "    \"Condition1\",\n",
    "    \"Condition2\",\n",
    "    \"RoofStyle\",\n",
    "    \"RoofMatl\",\n",
    "    \"Exterior1st\",\n",
    "    \"Exterior2nd\",\n",
    "    \"MasVnrType\",\n",
    "    \"Foundation\",\n",
    "    \"Heating\",\n",
    "    \"Electrical\",\n",
    "    \"Functional\",\n",
    "    \"GarageType\",\n",
    "    \"MiscFeature\",\n",
    "    \"SaleType\",\n",
    "    \"SaleCondition\",\n",
    "]\n",
    "\n",
    "# Alphanumerical\n",
    "alpnum_features = [\"LotConfig\", \"BldgType\", \"HouseStyle\"]\n",
    "# Binary\n",
    "bin_features = [\"CentralAir\"]\n",
    "\n",
    "temp_features = [\"train_test\"]\n"
   ]
  },
  {
   "cell_type": "markdown",
   "metadata": {},
   "source": [
    "# Data Visualisation"
   ]
  },
  {
   "cell_type": "code",
   "execution_count": 223,
   "metadata": {},
   "outputs": [],
   "source": [
    "# Import library\n",
    "import pandas as pd\n",
    "import seaborn as sns \n",
    "import matplotlib.pyplot as plt\n",
    "%matplotlib inline\n",
    "import warnings\n",
    "warnings.filterwarnings(\"ignore\")"
   ]
  },
  {
   "cell_type": "markdown",
   "metadata": {},
   "source": [
    "### Target Feature"
   ]
  },
  {
   "cell_type": "code",
   "execution_count": 224,
   "metadata": {},
   "outputs": [
    {
     "data": {
      "text/plain": [
       "<Axes: xlabel='SalePrice', ylabel='Count'>"
      ]
     },
     "execution_count": 224,
     "metadata": {},
     "output_type": "execute_result"
    },
    {
     "data": {
      "image/png": "[encoded data removed]",
      "text/plain": [
       "<Figure size 640x480 with 1 Axes>"
      ]
     },
     "metadata": {},
     "output_type": "display_data"
    }
   ],
   "source": [
    "sns.histplot(da.y, kde = True)"
   ]
  },
  {
   "cell_type": "markdown",
   "metadata": {},
   "source": [
    "Slight skew in SalePrice to the right, might be worth log(1+x) transforming the target"
   ]
  },
  {
   "cell_type": "markdown",
   "metadata": {},
   "source": [
    "Look at correlation between target and features"
   ]
  },
  {
   "cell_type": "code",
   "execution_count": 225,
   "metadata": {},
   "outputs": [
    {
     "data": {
      "text/html": [
       "<div>\n",
       "<style scoped>\n",
       "    .dataframe tbody tr th:only-of-type {\n",
       "        vertical-align: middle;\n",
       "    }\n",
       "\n",
       "    .dataframe tbody tr th {\n",
       "        vertical-align: top;\n",
       "    }\n",
       "\n",
       "    .dataframe thead th {\n",
       "        text-align: right;\n",
       "    }\n",
       "</style>\n",
       "<table border=\"1\" class=\"dataframe\">\n",
       "  <thead>\n",
       "    <tr style=\"text-align: right;\">\n",
       "      <th></th>\n",
       "      <th>SalePrice</th>\n",
       "    </tr>\n",
       "  </thead>\n",
       "  <tbody>\n",
       "    <tr>\n",
       "      <th>SalePrice</th>\n",
       "      <td>1.000000</td>\n",
       "    </tr>\n",
       "    <tr>\n",
       "      <th>OverallQual</th>\n",
       "      <td>0.790982</td>\n",
       "    </tr>\n",
       "    <tr>\n",
       "      <th>GrLivArea</th>\n",
       "      <td>0.708624</td>\n",
       "    </tr>\n",
       "    <tr>\n",
       "      <th>GarageCars</th>\n",
       "      <td>0.640409</td>\n",
       "    </tr>\n",
       "    <tr>\n",
       "      <th>GarageArea</th>\n",
       "      <td>0.623431</td>\n",
       "    </tr>\n",
       "    <tr>\n",
       "      <th>TotalBsmtSF</th>\n",
       "      <td>0.613581</td>\n",
       "    </tr>\n",
       "    <tr>\n",
       "      <th>1stFlrSF</th>\n",
       "      <td>0.605852</td>\n",
       "    </tr>\n",
       "    <tr>\n",
       "      <th>FullBath</th>\n",
       "      <td>0.560664</td>\n",
       "    </tr>\n",
       "    <tr>\n",
       "      <th>TotRmsAbvGrd</th>\n",
       "      <td>0.533723</td>\n",
       "    </tr>\n",
       "    <tr>\n",
       "      <th>YearBuilt</th>\n",
       "      <td>0.522897</td>\n",
       "    </tr>\n",
       "    <tr>\n",
       "      <th>YearRemodAdd</th>\n",
       "      <td>0.507101</td>\n",
       "    </tr>\n",
       "    <tr>\n",
       "      <th>GarageYrBlt</th>\n",
       "      <td>0.486362</td>\n",
       "    </tr>\n",
       "    <tr>\n",
       "      <th>MasVnrArea</th>\n",
       "      <td>0.477493</td>\n",
       "    </tr>\n",
       "    <tr>\n",
       "      <th>Fireplaces</th>\n",
       "      <td>0.466929</td>\n",
       "    </tr>\n",
       "    <tr>\n",
       "      <th>BsmtFinSF1</th>\n",
       "      <td>0.386420</td>\n",
       "    </tr>\n",
       "    <tr>\n",
       "      <th>LotFrontage</th>\n",
       "      <td>0.351799</td>\n",
       "    </tr>\n",
       "    <tr>\n",
       "      <th>WoodDeckSF</th>\n",
       "      <td>0.324413</td>\n",
       "    </tr>\n",
       "    <tr>\n",
       "      <th>2ndFlrSF</th>\n",
       "      <td>0.319334</td>\n",
       "    </tr>\n",
       "    <tr>\n",
       "      <th>OpenPorchSF</th>\n",
       "      <td>0.315856</td>\n",
       "    </tr>\n",
       "    <tr>\n",
       "      <th>HalfBath</th>\n",
       "      <td>0.284108</td>\n",
       "    </tr>\n",
       "    <tr>\n",
       "      <th>LotArea</th>\n",
       "      <td>0.263843</td>\n",
       "    </tr>\n",
       "    <tr>\n",
       "      <th>BsmtFullBath</th>\n",
       "      <td>0.227122</td>\n",
       "    </tr>\n",
       "    <tr>\n",
       "      <th>BsmtUnfSF</th>\n",
       "      <td>0.214479</td>\n",
       "    </tr>\n",
       "    <tr>\n",
       "      <th>BedroomAbvGr</th>\n",
       "      <td>0.168213</td>\n",
       "    </tr>\n",
       "    <tr>\n",
       "      <th>ScreenPorch</th>\n",
       "      <td>0.111447</td>\n",
       "    </tr>\n",
       "    <tr>\n",
       "      <th>PoolArea</th>\n",
       "      <td>0.092404</td>\n",
       "    </tr>\n",
       "    <tr>\n",
       "      <th>MoSold</th>\n",
       "      <td>0.046432</td>\n",
       "    </tr>\n",
       "    <tr>\n",
       "      <th>3SsnPorch</th>\n",
       "      <td>0.044584</td>\n",
       "    </tr>\n",
       "    <tr>\n",
       "      <th>BsmtFinSF2</th>\n",
       "      <td>-0.011378</td>\n",
       "    </tr>\n",
       "    <tr>\n",
       "      <th>BsmtHalfBath</th>\n",
       "      <td>-0.016844</td>\n",
       "    </tr>\n",
       "    <tr>\n",
       "      <th>MiscVal</th>\n",
       "      <td>-0.021190</td>\n",
       "    </tr>\n",
       "    <tr>\n",
       "      <th>LowQualFinSF</th>\n",
       "      <td>-0.025606</td>\n",
       "    </tr>\n",
       "    <tr>\n",
       "      <th>YrSold</th>\n",
       "      <td>-0.028923</td>\n",
       "    </tr>\n",
       "    <tr>\n",
       "      <th>OverallCond</th>\n",
       "      <td>-0.077856</td>\n",
       "    </tr>\n",
       "    <tr>\n",
       "      <th>EnclosedPorch</th>\n",
       "      <td>-0.128578</td>\n",
       "    </tr>\n",
       "    <tr>\n",
       "      <th>KitchenAbvGr</th>\n",
       "      <td>-0.135907</td>\n",
       "    </tr>\n",
       "    <tr>\n",
       "      <th>train_test</th>\n",
       "      <td>NaN</td>\n",
       "    </tr>\n",
       "  </tbody>\n",
       "</table>\n",
       "</div>"
      ],
      "text/plain": [
       "               SalePrice\n",
       "SalePrice       1.000000\n",
       "OverallQual     0.790982\n",
       "GrLivArea       0.708624\n",
       "GarageCars      0.640409\n",
       "GarageArea      0.623431\n",
       "TotalBsmtSF     0.613581\n",
       "1stFlrSF        0.605852\n",
       "FullBath        0.560664\n",
       "TotRmsAbvGrd    0.533723\n",
       "YearBuilt       0.522897\n",
       "YearRemodAdd    0.507101\n",
       "GarageYrBlt     0.486362\n",
       "MasVnrArea      0.477493\n",
       "Fireplaces      0.466929\n",
       "BsmtFinSF1      0.386420\n",
       "LotFrontage     0.351799\n",
       "WoodDeckSF      0.324413\n",
       "2ndFlrSF        0.319334\n",
       "OpenPorchSF     0.315856\n",
       "HalfBath        0.284108\n",
       "LotArea         0.263843\n",
       "BsmtFullBath    0.227122\n",
       "BsmtUnfSF       0.214479\n",
       "BedroomAbvGr    0.168213\n",
       "ScreenPorch     0.111447\n",
       "PoolArea        0.092404\n",
       "MoSold          0.046432\n",
       "3SsnPorch       0.044584\n",
       "BsmtFinSF2     -0.011378\n",
       "BsmtHalfBath   -0.016844\n",
       "MiscVal        -0.021190\n",
       "LowQualFinSF   -0.025606\n",
       "YrSold         -0.028923\n",
       "OverallCond    -0.077856\n",
       "EnclosedPorch  -0.128578\n",
       "KitchenAbvGr   -0.135907\n",
       "train_test           NaN"
      ]
     },
     "execution_count": 225,
     "metadata": {},
     "output_type": "execute_result"
    }
   ],
   "source": [
    "correlation = pd.concat([train[numerical_cols], y], axis = 1).corr()\n",
    "\n",
    "correlation[['SalePrice']].sort_values(by=['SalePrice'], ascending=False)"
   ]
  },
  {
   "cell_type": "markdown",
   "metadata": {},
   "source": [
    "### Numerical Features"
   ]
  },
  {
   "cell_type": "code",
   "execution_count": 226,
   "metadata": {},
   "outputs": [],
   "source": [
    "show = False"
   ]
  },
  {
   "cell_type": "code",
   "execution_count": 227,
   "metadata": {},
   "outputs": [],
   "source": [
    "def plot_num_hist(show):\n",
    "    if (show == True):\n",
    "        fig = plt.figure(figsize=(20, 40))\n",
    "        ax = []\n",
    "        for i, val in enumerate(numerical_cols):\n",
    "            ax.append(fig.add_subplot(10, 4, i+1))\n",
    "            ax.append(sns.histplot(train[val].dropna(), kde=True))\n",
    "            fig.tight_layout()\n",
    "plot_num_hist(show)"
   ]
  },
  {
   "cell_type": "markdown",
   "metadata": {},
   "source": [
    "Mostly 0 area for some features e.g. Porch and Pools"
   ]
  },
  {
   "cell_type": "code",
   "execution_count": 228,
   "metadata": {},
   "outputs": [],
   "source": [
    "def plot_num_box(show):\n",
    "    if (show == True):\n",
    "        fig = plt.figure(figsize=(20, 40))\n",
    "        ax = []\n",
    "        for i, val in enumerate(numerical_cols):\n",
    "            ax.append(fig.add_subplot(10, 4, i+1))\n",
    "            ax.append(sns.boxplot(train[val].dropna()))\n",
    "            fig.tight_layout()\n",
    "plot_num_box(show)"
   ]
  },
  {
   "cell_type": "markdown",
   "metadata": {},
   "source": [
    "Most extreme outliers are: 'LotFrontage','LotArea','BsmtFinSF1', 'TotalBsmtSF', 'GrLivArea'\n",
    "\n",
    "Less extreme outliers are: 'MasVnrArea', '1stFlrSF', 'Fireplaces', 'GarageCars', 'OpenPorchSF'\n",
    "\n",
    "Mostly 0s: BsmtFinSF2, LowQualFinSF, 'BsmtHalfBalf','KitchenAbvGr', 'EnclosedPorch', '3SsnPorch', 'ScreenPorch', 'PoolArea', 'MiscVal'"
   ]
  },
  {
   "cell_type": "markdown",
   "metadata": {},
   "source": [
    "Look for quasi-constant features (features with >95% of the same values here)"
   ]
  },
  {
   "cell_type": "code",
   "execution_count": 229,
   "metadata": {},
   "outputs": [
    {
     "data": {
      "text/plain": [
       "['LowQualFinSF',\n",
       " 'KitchenAbvGr',\n",
       " '3SsnPorch',\n",
       " 'PoolArea',\n",
       " 'MiscVal',\n",
       " 'train_test']"
      ]
     },
     "execution_count": 229,
     "metadata": {},
     "output_type": "execute_result"
    }
   ],
   "source": [
    "overfit_num = []\n",
    "for col in numerical_cols:\n",
    "    counts = train[col].value_counts()\n",
    "    zeros = counts.iloc[0]\n",
    "    if zeros / len(train) > 0.95:\n",
    "        overfit_num.append(col)\n",
    "\n",
    "overfit_num"
   ]
  },
  {
   "cell_type": "markdown",
   "metadata": {},
   "source": [
    "Look for multicollinearity of over 80%"
   ]
  },
  {
   "cell_type": "code",
   "execution_count": 230,
   "metadata": {},
   "outputs": [],
   "source": [
    "def plot_num_corr(show):\n",
    "    if (show == True):\n",
    "        plt.figure(figsize=(14, 12))\n",
    "        sns.heatmap(correlation, mask=correlation<0.8, \n",
    "                    linecolor = 'black', linewidths=.5)\n",
    "plot_num_corr(show)"
   ]
  },
  {
   "cell_type": "markdown",
   "metadata": {},
   "source": [
    "GarageYrBlt and YearBuilt\n",
    "\n",
    "1stFlrSF and TotalBsmtSF\n",
    "\n",
    "GarageArea and GarageCars\n",
    "\n",
    "TotRmsAbvGrd and GrLivArea"
   ]
  },
  {
   "cell_type": "code",
   "execution_count": 231,
   "metadata": {},
   "outputs": [],
   "source": [
    "def plot_num_reg(show):\n",
    "    if (show == True):\n",
    "        fig = plt.figure(figsize=(20, 40))\n",
    "        ax = []\n",
    "        for i, val in enumerate(numerical_cols):\n",
    "            ax.append(fig.add_subplot(10, 4, i+1))\n",
    "            ax.append(sns.regplot(x = val, y = 'SalePrice', \n",
    "                                  data = pd.concat([train[numerical_cols], y],\n",
    "                                                   axis = 1).dropna()))\n",
    "            fig.tight_layout()\n",
    "plot_num_reg(show)"
   ]
  },
  {
   "cell_type": "markdown",
   "metadata": {},
   "source": [
    "Features with mostly 0s have poor correlations with SalePrice.\n",
    "\n",
    "YrSold and MoSold have no correlation with the SalePrice and should be removed.\n"
   ]
  },
  {
   "cell_type": "markdown",
   "metadata": {},
   "source": [
    "### Categorical Features"
   ]
  },
  {
   "cell_type": "code",
   "execution_count": 232,
   "metadata": {},
   "outputs": [],
   "source": [
    "def plot_cat_count(show):\n",
    "    if show == True:\n",
    "        fig = plt.figure(figsize=(20, 40))\n",
    "        ax = []\n",
    "        \n",
    "        for i, val in enumerate(categorical_cols):\n",
    "            ax.append(fig.add_subplot(11, 4, i+1))\n",
    "            ax.append(sns.countplot(data = train, x = val))\n",
    "        fig.tight_layout()\n",
    "plot_cat_count(show)"
   ]
  },
  {
   "cell_type": "markdown",
   "metadata": {},
   "source": [
    "Highest Cardinality Features: 'Neighborhood', 'Exterior1st', 'Exterior2nd'"
   ]
  },
  {
   "cell_type": "code",
   "execution_count": 233,
   "metadata": {},
   "outputs": [
    {
     "data": {
      "text/plain": [
       "['Street', 'Utilities', 'Condition2', 'RoofMatl', 'Heating']"
      ]
     },
     "execution_count": 233,
     "metadata": {},
     "output_type": "execute_result"
    }
   ],
   "source": [
    "overfit_cat = []\n",
    "for col in categorical_cols:\n",
    "    counts = train[col].value_counts()\n",
    "    zeros = counts.iloc[0]\n",
    "    if zeros / len(train) > 0.95:\n",
    "        overfit_cat.append(col)\n",
    "overfit_cat"
   ]
  },
  {
   "cell_type": "code",
   "execution_count": 234,
   "metadata": {},
   "outputs": [],
   "source": [
    "def cat_box(show):\n",
    "    if show == True:\n",
    "        fig = plt.figure(figsize = (20, 40))\n",
    "        for i, val in enumerate(categorical_cols):\n",
    "            sns.catplot(x = val, y = 'SalePrice', data = pd.concat([\n",
    "                train[categorical_cols], y\n",
    "            ], axis = 1), kind='box')\n",
    "            fig.tight_layout()\n",
    "# cat_box(show)"
   ]
  },
  {
   "cell_type": "markdown",
   "metadata": {},
   "source": [
    "### NA values"
   ]
  },
  {
   "cell_type": "code",
   "execution_count": 235,
   "metadata": {},
   "outputs": [
    {
     "name": "stdout",
     "output_type": "stream",
     "text": [
      "              Features\n",
      "PoolQC        0.995205\n",
      "MiscFeature   0.963014\n",
      "Alley         0.937671\n",
      "Fence         0.807534\n",
      "MasVnrType    0.597260\n",
      "FireplaceQu   0.472603\n",
      "LotFrontage   0.177397\n",
      "GarageYrBlt   0.055479\n",
      "GarageCond    0.055479\n",
      "GarageType    0.055479\n",
      "GarageFinish  0.055479\n",
      "GarageQual    0.055479\n",
      "BsmtExposure  0.026027\n",
      "BsmtFinType2  0.026027\n",
      "BsmtCond      0.025342\n",
      "BsmtQual      0.025342\n",
      "BsmtFinType1  0.025342\n",
      "MasVnrArea    0.005479\n",
      "Electrical    0.000685\n"
     ]
    },
    {
     "data": {
      "text/plain": [
       "<Axes: xlabel='None', ylabel='Features'>"
      ]
     },
     "execution_count": 235,
     "metadata": {},
     "output_type": "execute_result"
    },
    {
     "data": {
      "image/png": "[encoded data removed]",
      "text/plain": [
       "<Figure size 640x480 with 1 Axes>"
      ]
     },
     "metadata": {},
     "output_type": "display_data"
    }
   ],
   "source": [
    "na_df = pd.DataFrame({\"Features\": train.isnull().sum(axis=0)/len(train)}\n",
    "                     ).sort_values(by = 'Features', ascending=False)\n",
    "na_df = na_df.loc[na_df['Features'] != 0]\n",
    "print(na_df)\n",
    "plt.xticks(rotation='vertical')\n",
    "sns.barplot(x = na_df.index, y = na_df.Features)"
   ]
  },
  {
   "cell_type": "markdown",
   "metadata": {},
   "source": [
    "# Data cleaning"
   ]
  },
  {
   "cell_type": "code",
   "execution_count": 236,
   "metadata": {},
   "outputs": [],
   "source": [
    "\"\"\"\n",
    "In the data_visualisation.ipynb file, we defined useless features:\n",
    "\n",
    "1)No Correlation with SalePrice: 'YrSold', 'MoSold'\n",
    "\n",
    "2)Quasi-constant Categorical: 'Street', \n",
    "    'Utilities', 'Condition2', 'RoofMatl', 'Heating'\n",
    "\n",
    "3)Quasi-constant Numerical: 'LowQualFinSF', \n",
    "    'KitchenAbvGr', '3SsnPorch', 'PoolArea', 'MiscVal'\n",
    "\"\"\"\n",
    "\n",
    "# Removing useless features\n",
    "train = train.drop(\n",
    "    [\n",
    "        \"MoSold\",\n",
    "        \"Street\",\n",
    "        \"Utilities\",\n",
    "        \"Condition2\",\n",
    "        \"RoofMatl\",\n",
    "        \"Heating\",\n",
    "        \"LowQualFinSF\",\n",
    "        \"KitchenAbvGr\",\n",
    "        \"MiscVal\",\n",
    "        \"PoolArea\",\n",
    "    ],\n",
    "    axis=1,\n",
    ")\n",
    "test = test.drop(\n",
    "    [\n",
    "        \"MoSold\",\n",
    "        \"Street\",\n",
    "        \"Utilities\",\n",
    "        \"Condition2\",\n",
    "        \"RoofMatl\",\n",
    "        \"Heating\",\n",
    "        \"LowQualFinSF\",\n",
    "        \"KitchenAbvGr\",\n",
    "        \"MiscVal\",\n",
    "        \"PoolArea\",\n",
    "    ],\n",
    "    axis=1,\n",
    ")\n",
    "\n",
    "# Keep'YrSold' for time being as may be useful in feature engineering."
   ]
  },
  {
   "cell_type": "code",
   "execution_count": 237,
   "metadata": {},
   "outputs": [],
   "source": [
    "\n",
    "# Removing outliers\n",
    "\"\"\"We use IQR\"\"\"\n",
    "\"\"\"Calculate the upper and lower limits\"\"\"\n",
    "worst_outliers = ['LotFrontage','LotArea','BsmtFinSF1', \n",
    "                  'TotalBsmtSF', 'GrLivArea']\n",
    "\n",
    "Q1 = train[worst_outliers].quantile(0.25)\n",
    "Q3 = train[worst_outliers].quantile(0.75)\n",
    "\n",
    "IQR = Q3 - Q1\n",
    "lower = Q1 - 10 * IQR\n",
    "upper = Q3 + 10 * IQR\n",
    "\n",
    "\n",
    "upper_index = np.unique(np.where(train[worst_outliers] >= upper)[0])\n",
    "lower_index = np.unique(np.where(train[worst_outliers] <= lower)[0])\n",
    "\n",
    "train = train.drop(index = upper_index)\n",
    "train = train.drop(index = lower_index)\n",
    "\n"
   ]
  },
  {
   "cell_type": "code",
   "execution_count": 238,
   "metadata": {},
   "outputs": [],
   "source": [
    "# Filling NA values\n",
    "\"\"\"Firstly, we combine train and test data again to account \n",
    "for the outliers we removed\"\"\"\n",
    "\n",
    "X = pd.concat([train, test])\n",
    "\n",
    "na_df = pd.DataFrame({\"Features\": X.isnull().sum(axis=0) / len(X)}).sort_values(\n",
    "    by=\"Features\", ascending=False\n",
    ")\n",
    "na_df = na_df.loc[na_df[\"Features\"] != 0]\n",
    "\n",
    "none_cols = [\n",
    "    \"GarageFinish\",\n",
    "    \"GarageQual\",\n",
    "    \"GarageCond\",\n",
    "    \"GarageType\",\n",
    "    \"BsmtCond\",\n",
    "    \"BsmtExposure\",\n",
    "    \"BsmtQual\",\n",
    "    \"BsmtFinType2\",\n",
    "    \"BsmtFinType1\",\n",
    "    \"MasVnrType\",\n",
    "]\n",
    "\n",
    "for col in none_cols:\n",
    "    X[col] = X[col].fillna(\"None\")\n",
    "\n",
    "zero_cols = [\n",
    "    \"MasVnrArea\",\n",
    "    \"BsmtFullBath\",\n",
    "    \"BsmtHalfBath\",\n",
    "    \"BsmtFinSF1\",\n",
    "    \"BsmtFinSF2\",\n",
    "    \"GarageYrBlt\",\n",
    "    \"GarageCars\",\n",
    "    \"TotalBsmtSF\",\n",
    "    \"BsmtUnfSF\",\n",
    "    \"GarageArea\",\n",
    "]\n",
    "for col in zero_cols:\n",
    "    X[col] = X[col].fillna(0)\n",
    "\n",
    "\n",
    "mode_cols = [\"KitchenQual\", \"Electrical\", \"SaleType\", \n",
    "             \"Exterior1st\", \"Exterior2nd\"]\n",
    "for col in mode_cols:\n",
    "    X[col] = X.groupby(\"Neighborhood\")[col].transform(lambda x: x.fillna(x.mode()[0]))\n",
    "\n",
    "X[\"MSZoning\"] = X.groupby(\"MSSubClass\")[\"MSZoning\"].transform(\n",
    "    lambda x: x.fillna(x.mode()[0])\n",
    ")\n",
    "\n",
    "X[\"Functional\"] = X[\"Functional\"].fillna(\"Typ\")"
   ]
  },
  {
   "cell_type": "code",
   "execution_count": 239,
   "metadata": {},
   "outputs": [],
   "source": [
    "# Mapping Categorical Features\n",
    "X[\"CentralAir\"] = X[\"CentralAir\"].map({\"N\": 0, \"Y\": 1})\n",
    "X[\"LotShape\"] = X[\"LotShape\"].map({\"IR3\": 1, \"IR2\": 2, \"IR1\": 3, \"Reg\": 4})\n",
    "X[\"LandSlope\"] = X[\"LandSlope\"].map({\"Gtl\": 1, \"Mod\": 2, \"Sev\": 3})\n",
    "QualCondMap = {\"Ex\": 5, \"Gd\": 4, \"TA\": 3, \"Fa\": 2, \"Po\": 1, \"None\": 0}\n",
    "for col in [\n",
    "    \"ExterQual\",\n",
    "    \"ExterCond\",\n",
    "    \"BsmtQual\",\n",
    "    \"BsmtCond\",\n",
    "    \"GarageQual\",\n",
    "    \"GarageCond\",\n",
    "    \"KitchenQual\",\n",
    "    \"HeatingQC\",\n",
    "    \"FireplaceQu\",\n",
    "    \"PoolQC\",\n",
    "]:\n",
    "    X[col] = X[col].map(QualCondMap)\n",
    "X[\"BsmtExposure\"] = X[\"BsmtExposure\"].map(\n",
    "    {\"None\": 0, \"No\": 1, \"Mn\": 2, \"Av\": 3, \"Gd\": 4}\n",
    ")\n",
    "X[\"GarageFinish\"] = X[\"GarageFinish\"].map({\"None\": 0, \"Unf\": 1, \"RFn\": 2, \"Fin\": 3})\n",
    "X[\"PavedDrive\"] = X[\"PavedDrive\"].map({\"N\": 1, \"P\": 2, \"Y\": 3})\n",
    "X[\"Fence\"] = X[\"Fence\"].map({\"GdPrv\": 4, \"MnPrv\": 3, \"GdWo\": 2, \"MnWw\": 1, \"None\": 0})\n"
   ]
  },
  {
   "cell_type": "markdown",
   "metadata": {},
   "source": [
    "# Feature engineering"
   ]
  },
  {
   "cell_type": "code",
   "execution_count": 240,
   "metadata": {},
   "outputs": [
    {
     "name": "stdout",
     "output_type": "stream",
     "text": [
      "                           SalePrice\n",
      "SalePrice                   1.000000\n",
      "TotalSFxOverallQual         0.855686\n",
      "GrLivAreaxOverallQual       0.831525\n",
      "ExtQxOverallQ               0.810576\n",
      "TotalSFinclGarage           0.808701\n",
      "OverallQual                 0.791008\n",
      "SimplMSZoningxTotalSF       0.787139\n",
      "SimplMSZoning+OverallQual   0.783920\n",
      "TotalSF                     0.781254\n",
      "GrLivArea                   0.707425\n",
      "ExterQual                   0.681752\n",
      "GarageCarsxArea             0.680300\n",
      "KitchenQual                 0.659254\n",
      "GarageCars                  0.642134\n",
      "TotalBath                   0.632224\n",
      "GarageArea                  0.622699\n",
      "TotalBsmtSF                 0.612692\n",
      "1stFlrSF                    0.604778\n",
      "BsmtQual                    0.584461\n",
      "OverallQxOverallC           0.565207\n",
      "FullBath                    0.561264\n",
      "GarageFinish                0.548038\n",
      "TotRmsAbvGrd                0.533471\n",
      "SimplMSZoning+YearBuilt     0.521924\n",
      "YearBuilt                   0.520955\n",
      "YrsSinceRemod               0.507896\n",
      "YearRemodAdd                0.505842\n",
      "MasVnrArea                  0.471838\n",
      "HasFireplace                0.470658\n",
      "Fireplaces                  0.466241\n",
      "PoolQC                      0.447936\n",
      "LotAreaxOverallQual         0.432196\n",
      "HeatingQC                   0.425049\n",
      "BsmtFinSF1                  0.386701\n",
      "BsmtExposure                0.374423\n",
      "TotalBsmtFin                0.366374\n",
      "HasMasVnr                   0.359625\n",
      "LotFrontage                 0.350701\n",
      "WoodDeckSF                  0.322241\n",
      "2ndFlrSF                    0.319876\n",
      "OpenPorchSF                 0.315667\n",
      "TotalLot                    0.310848\n",
      "SimplMSZoning               0.310347\n",
      "HasPorch                    0.297873\n",
      "FireplaceQu                 0.296648\n",
      "HasWoodDeck                 0.294235\n",
      "HalfBath                    0.281771\n",
      "GarageQual                  0.269591\n",
      "LotShape                    0.265494\n",
      "LotArea                     0.262882\n",
      "GarageYrBlt                 0.259347\n",
      "GarageCond                  0.258827\n",
      "CentralAir                  0.245530\n",
      "HasGarage                   0.234906\n",
      "BsmtFullBath                0.227681\n",
      "PavedDrive                  0.225678\n",
      "RemodYrBuilt                0.215628\n",
      "BsmtUnfSF                   0.213282\n",
      "BsmtCond                    0.206942\n",
      "Fence                       0.202212\n",
      "TotalPorch                  0.197427\n",
      "BedroomAbvGr                0.167137\n",
      "Has2ndFloor                 0.138921\n",
      "HasBsmt                     0.130747\n",
      "EnclosedPorch               0.127693\n",
      "ScreenPorch                 0.114440\n",
      "HasPool                     0.093795\n",
      "HasScreenPorch              0.088899\n",
      "OverallCond                 0.078986\n",
      "LandSlope                   0.050666\n",
      "Has3SsnPorch                0.045785\n",
      "3SsnPorch                   0.044386\n",
      "BsmtHalfBath                0.017595\n",
      "ExterCond                   0.015212\n",
      "BsmtFinSF2                  0.012250\n",
      "HasAlley                         NaN\n",
      "['TotalSFxOverallQual', 'GrLivAreaxOverallQual', 'ExtQxOverallQ', 'TotalSFinclGarage', 'OverallQual', 'SimplMSZoningxTotalSF', 'SimplMSZoning+OverallQual', 'TotalSF', 'GrLivArea', 'ExterQual']\n"
     ]
    }
   ],
   "source": [
    "\"\"\"Add some new features representing totals and presence\"\"\"\n",
    "\n",
    "X[\"TotalLot\"] = X[\"LotFrontage\"] + X[\"LotArea\"]\n",
    "X[\"TotalBsmtFin\"] = X[\"BsmtFinSF1\"] + X[\"BsmtFinSF2\"]\n",
    "X[\"TotalSF\"] = (\n",
    "    X[\"TotalBsmtSF\"] + X[\"1stFlrSF\"] + X[\"2ndFlrSF\"]\n",
    ")  # Got rid of 1stFlrSF ealier so this is new total\n",
    "X[\"TotalSFinclGarage\"] = (\n",
    "    X[\"TotalBsmtSF\"] + X[\"1stFlrSF\"] + X[\"2ndFlrSF\"] + X[\"GarageArea\"]\n",
    ")\n",
    "X[\"TotalBath\"] = (\n",
    "    X[\"FullBath\"]\n",
    "    + (0.5 * X[\"HalfBath\"])\n",
    "    + X[\"BsmtFullBath\"]\n",
    "    + (0.5 * X[\"BsmtHalfBath\"])\n",
    ")\n",
    "X[\"TotalPorch\"] = (\n",
    "    X[\"OpenPorchSF\"] + X[\"EnclosedPorch\"] + X[\"ScreenPorch\"] + X[\"3SsnPorch\"]\n",
    ")\n",
    "X[\"OverallQxOverallC\"] = (\n",
    "    X[\"OverallCond\"] * X[\"OverallQual\"]\n",
    ")  # Multiplying together gives better score\n",
    "X[\"ExtQxOverallQ\"] = (\n",
    "    X[\"OverallQual\"] * X[\"ExterQual\"]\n",
    ")  # Multiplying together gives better score\n",
    "X[\"RemodYrBuilt\"] = X[\"YearRemodAdd\"] - X[\"YearBuilt\"]\n",
    "X[\"YrsSinceRemod\"] = X[\"YrSold\"] - X[\"YearRemodAdd\"]\n",
    "X = X.drop(\"YrSold\", axis=1)\n",
    "\n",
    "X[\"HasPool\"] = X[\"PoolQC\"].apply(lambda x: 1 if x > 0 else 0)\n",
    "X[\"HasPorch\"] = X[\"TotalPorch\"].apply(lambda x: 1 if x > 0 else 0)\n",
    "X[\"HasBsmt\"] = X[\"TotalBsmtFin\"].apply(lambda x: 1 if x > 0 else 0)\n",
    "X[\"HasGarage\"] = X[\"GarageArea\"].apply(lambda x: 1 if x > 0 else 0)\n",
    "X[\"HasFireplace\"] = X[\"Fireplaces\"].apply(lambda x: 1 if x > 0 else 0)\n",
    "X[\"Has2ndFloor\"] = X[\"2ndFlrSF\"].apply(lambda x: 1 if x > 0 else 0)\n",
    "X[\"HasWoodDeck\"] = X[\"WoodDeckSF\"].apply(lambda x: 1 if x > 0 else 0)\n",
    "X[\"HasMasVnr\"] = X[\"MasVnrArea\"].apply(lambda x: 1 if x > 0 else 0)\n",
    "X[\"HasAlley\"] = X[\"Alley\"].apply(lambda x: 0 if x == \"None\" else 1)\n",
    "X[\"Has3SsnPorch\"] = X[\"3SsnPorch\"].apply(lambda x: 1 if x > 0 else 0)\n",
    "X[\"HasScreenPorch\"] = X[\"ScreenPorch\"].apply(lambda x: 1 if x > 0 else 0)\n",
    "# X['HasEnclosedPorch'] = X['EnclosedPorch'].apply(lambda x: 1 if x > 0 else 0)\n",
    "# X = X.drop('PoolQC',axis = 1)\n",
    "\n",
    "X[\"SimplMSZoning\"] = X.MSZoning.map({\"C (all)\": 1, \"RH\": 2, \"RM\": 2, \"RL\": 3, \"FV\": 4})\n",
    "X[\"GarageCarsxArea\"] = X[\"GarageCars\"] * X[\"GarageArea\"]\n",
    "X[\"TotalSFxOverallQual\"] = X[\"TotalSF\"] * X[\"OverallQual\"]  # Very Good Feature\n",
    "X[\"GrLivAreaxOverallQual\"] = X[\"GrLivArea\"] * X[\"OverallQual\"]  # Very Good Feature\n",
    "X[\"SimplMSZoningxTotalSF\"] = X[\"SimplMSZoning\"] * X[\"TotalSF\"]  # Very Good Feature\n",
    "X[\"SimplMSZoning+OverallQual\"] = (\n",
    "    X[\"SimplMSZoning\"] + X[\"OverallQual\"]\n",
    ")  # Very Good Feature\n",
    "X[\"SimplMSZoning+YearBuilt\"] = X[\"SimplMSZoning\"] + X[\"YearBuilt\"]  # Very Good Feature\n",
    "X[\"LotAreaxOverallQual\"] = X[\"LotArea\"] * X[\"OverallQual\"]  # Could be worth adding\n",
    "# X['KitchenQualxOverallQxOverallC'] = X['KitchenQual'] * X['OverallQxOverallC']\n",
    "\n",
    "numerical_cols = X.select_dtypes(exclude=[\"object\"]).columns.tolist()\n",
    "numerical_cols.remove(\"train_test\")\n",
    "correlation = pd.concat([X[numerical_cols], y], axis=1).corr()\n",
    "correlation = abs(correlation[[\"SalePrice\"]]).sort_values(\n",
    "    [\"SalePrice\"], ascending=False\n",
    ")\n",
    "print(correlation)\n",
    "\n",
    "correlation = correlation.index.tolist()\n",
    "print(correlation[1:11])\n",
    "\n",
    "# Polynomial features of the best 10\n",
    "cols = correlation[1:11]\n",
    "\n",
    "for col in cols:\n",
    "    X[col + \"-2\"] = X.loc[:, col] ** 2\n",
    "    X[col + \"-3\"] = X.loc[:, col] ** 3\n",
    "    X[col + \"-sqrt\"] = np.sqrt(np.absolute(X.loc[:, col]))\n"
   ]
  },
  {
   "cell_type": "markdown",
   "metadata": {},
   "source": [
    "#### Fix Skewage in Features"
   ]
  },
  {
   "cell_type": "code",
   "execution_count": 241,
   "metadata": {},
   "outputs": [
    {
     "name": "stdout",
     "output_type": "stream",
     "text": [
      "There are 78 numerical features with abs Skew > 0.5 :\n",
      "                                  Skew\n",
      "TotalSFxOverallQual-3        29.350649\n",
      "TotalSF-3                    24.174732\n",
      "SimplMSZoningxTotalSF-3      22.409228\n",
      "TotalSFinclGarage-3          21.590796\n",
      "GrLivAreaxOverallQual-3      18.011051\n",
      "HasPool                      16.964771\n",
      "LotArea                      12.809673\n",
      "TotalSFxOverallQual-2        12.009673\n",
      "3SsnPorch                    11.354131\n",
      "LotAreaxOverallQual          11.257841\n",
      "GrLivArea-3                  10.434732\n",
      "Has3SsnPorch                  8.695256\n",
      "TotalSF-2                     8.018015\n",
      "GrLivAreaxOverallQual-2       7.423671\n",
      "SimplMSZoningxTotalSF-2       6.595081\n",
      "TotalSFinclGarage-2           6.575586\n",
      "LandSlope                     4.964680\n",
      "BsmtFinSF2                    4.137116\n",
      "EnclosedPorch                 4.001844\n",
      "GrLivArea-2                   3.960467\n",
      "ScreenPorch                   3.952500\n",
      "BsmtHalfBath                  3.922798\n",
      "ExtQxOverallQ-3               3.138966\n",
      "HasScreenPorch                2.915483\n",
      "MasVnrArea                    2.610497\n",
      "OpenPorchSF                   2.532252\n",
      "TotalPorch                    2.235788\n",
      "TotalSFxOverallQual           2.145813\n",
      "RemodYrBuilt                  2.064763\n",
      "ExtQxOverallQ-2               1.999171\n",
      "WoodDeckSF                    1.840925\n",
      "GrLivAreaxOverallQual         1.810799\n",
      "ExterQual-3                   1.533891\n",
      "TotalSF                       1.516922\n",
      "1stFlrSF                      1.474216\n",
      "BsmtFinSF1                    1.424074\n",
      "GarageCarsxArea               1.416102\n",
      "OverallQual-3                 1.411580\n",
      "ExterCond                     1.322739\n",
      "TotalSFinclGarage             1.309620\n",
      "GrLivArea                     1.271081\n",
      "TotalBsmtFin                  1.177038\n",
      "TotalBsmtSF                   1.161966\n",
      "ExterQual-2                   1.142540\n",
      "BsmtExposure                  1.119957\n",
      "ExtQxOverallQ                 1.011702\n",
      "SimplMSZoningxTotalSF         0.997850\n",
      "SimplMSZoning+OverallQual-3   0.994697\n",
      "BsmtUnfSF                     0.920563\n",
      "2ndFlrSF                      0.862841\n",
      "OverallQual-2                 0.843184\n",
      "ExterQual                     0.791630\n",
      "TotRmsAbvGrd                  0.759838\n",
      "Fireplaces                    0.732221\n",
      "HalfBath                      0.693357\n",
      "TotalSFxOverallQual-sqrt      0.683651\n",
      "GrLivAreaxOverallQual-sqrt    0.659023\n",
      "BsmtFullBath                  0.623314\n",
      "ExterQual-sqrt                0.609074\n",
      "GrLivArea-sqrt                0.573813\n",
      "OverallCond                   0.570553\n",
      "SimplMSZoning+OverallQual-2   0.551424\n",
      "ExtQxOverallQ-sqrt            0.522549\n",
      "HeatingQC                    -0.548743\n",
      "YearBuilt                    -0.601849\n",
      "SimplMSZoning+YearBuilt      -0.607030\n",
      "HasBsmt                      -0.782887\n",
      "SimplMSZoning                -0.828037\n",
      "HasPorch                     -0.873586\n",
      "LotShape                     -1.259397\n",
      "BsmtQual                     -1.261327\n",
      "PavedDrive                   -2.995504\n",
      "GarageQual                   -3.274045\n",
      "GarageCond                   -3.394623\n",
      "CentralAir                   -3.484027\n",
      "BsmtCond                     -3.616553\n",
      "GarageYrBlt                  -3.912099\n",
      "HasGarage                    -3.947070\n"
     ]
    }
   ],
   "source": [
    "numerical_cols = X.select_dtypes(exclude=['object']).columns.tolist()\n",
    "numerical_cols.remove('train_test')\n",
    "\n",
    "skew_features = X[numerical_cols].apply(lambda x: skew(x)).sort_values(ascending=False)\n",
    "high_skew = skew_features[abs(skew_features) > 0.5]\n",
    "print(\"There are {} numerical features with abs Skew > 0.5 :\".format(high_skew.shape[0]))\n",
    "skewness = pd.DataFrame({'Skew' :high_skew})\n",
    "print(skewness)"
   ]
  },
  {
   "cell_type": "code",
   "execution_count": 242,
   "metadata": {},
   "outputs": [
    {
     "name": "stdout",
     "output_type": "stream",
     "text": [
      "There are 21 numerical features with abs Skew > 0.5 :\n",
      "                     Skew\n",
      "HasPool         16.964771\n",
      "Has3SsnPorch     8.695256\n",
      "3SsnPorch        8.695256\n",
      "LandSlope        4.204173\n",
      "BsmtHalfBath     3.698807\n",
      "ScreenPorch      2.915483\n",
      "HasScreenPorch   2.915483\n",
      "BsmtFinSF2       2.348657\n",
      "EnclosedPorch    1.884116\n",
      "GarageCond       1.539179\n",
      "GarageQual       1.090551\n",
      "BsmtCond         0.646719\n",
      "RemodYrBuilt     0.589951\n",
      "HalfBath         0.532263\n",
      "LotShape        -0.594514\n",
      "HasBsmt         -0.782887\n",
      "HasPorch        -0.873586\n",
      "PavedDrive      -2.771142\n",
      "CentralAir      -3.484027\n",
      "GarageYrBlt     -3.821161\n",
      "HasGarage       -3.947070\n"
     ]
    }
   ],
   "source": [
    "pt = PowerTransformer()\n",
    "X[high_skew.index] = pt.fit_transform(X[high_skew.index])\n",
    "\n",
    "skew_features = X[numerical_cols].apply(lambda x: skew(x)).sort_values(ascending=False)\n",
    "high_skew = skew_features[abs(skew_features) > 0.5]\n",
    "print(\"There are {} numerical features with abs Skew > 0.5 :\".format(high_skew.shape[0]))\n",
    "skewness = pd.DataFrame({'Skew' :high_skew})\n",
    "print(skewness)"
   ]
  },
  {
   "cell_type": "markdown",
   "metadata": {},
   "source": [
    "#### Check numerical data used in training"
   ]
  },
  {
   "cell_type": "code",
   "execution_count": 243,
   "metadata": {},
   "outputs": [],
   "source": [
    "def plot_num_final(show):\n",
    "    if(show==True):\n",
    "        numerical_cols = X.select_dtypes(exclude=['object']).columns\n",
    "        fig = plt.figure(figsize = (20,100))\n",
    "        ax = []\n",
    "        for i,val in enumerate(numerical_cols):\n",
    "            ax.append(fig.add_subplot(25,5,i+1))\n",
    "            ax.append(sns.regplot(x=val,y='SalePrice', data = pd.concat(\n",
    "            [X.loc[X.train_test==1],y],axis=1)))\n",
    "        plt.show()\n",
    "        fig.tight_layout()\n",
    "plot_num_final(show)"
   ]
  },
  {
   "cell_type": "code",
   "execution_count": 244,
   "metadata": {},
   "outputs": [],
   "source": [
    "# Convert rest of Categorical Features using dummies\n",
    "X = pd.get_dummies(X)"
   ]
  },
  {
   "cell_type": "markdown",
   "metadata": {},
   "source": [
    "# Modeling\n"
   ]
  },
  {
   "cell_type": "markdown",
   "metadata": {},
   "source": [
    "#### Write Learning Curve and Validation Curve function to determine whether model is good fit"
   ]
  },
  {
   "cell_type": "code",
   "execution_count": 245,
   "metadata": {},
   "outputs": [],
   "source": [
    "def plot_learning_curve(estimator, X, y, cv, train_sizes):\n",
    "    plt.figure()\n",
    "    plt.title(str(estimator))\n",
    "    plt.xlabel('Training examples')\n",
    "    plt.ylabel('Score')\n",
    "    train_sizes, train_scores, test_scores = learning_curve(estimator, X, y, cv=cv, n_jobs = -1, \n",
    "                                                            train_sizes=train_sizes, scoring = 'neg_mean_squared_error')\n",
    "    train_scores_mean = np.mean(train_scores, axis = 1)\n",
    "    test_scores_mean = np.mean(test_scores, axis = 1)\n",
    "    \n",
    "    plt.grid()\n",
    "    plt.plot(train_sizes, train_scores_mean, 'o-', color = 'r',\n",
    "             label = 'Training score')\n",
    "\n",
    "    plt.plot(train_sizes, test_scores_mean, 'o-', color = 'g',\n",
    "             label = 'Cross-validation score')\n",
    "    plt.legend(loc = 'best')\n",
    "    return plt    "
   ]
  },
  {
   "cell_type": "code",
   "execution_count": 246,
   "metadata": {},
   "outputs": [],
   "source": [
    "def plot_validation_curve(model, X, y, param_name, param_range, cv):\n",
    "    train_score, test_score = validation_curve(model, X, y, \n",
    "                                               param_name=param_name,\n",
    "                                               param_range=param_range,\n",
    "                                               cv = cv, \n",
    "                                               scoring = 'neg_mean_squared_error')\n",
    "    train_score_mean = np.mean(train_score, axis = 1)\n",
    "    test_score_mean = np.mean(test_score, axis = 1)\n",
    "    \n",
    "    train_score_std = np.std(train_score, axis = 1)\n",
    "    test_score_std = np.std(test_score, axis = 1)\n",
    "    \n",
    "    plt.plot(param_range, train_score_mean, label = \"Training Score\",\n",
    "             color = 'darkblue')\n",
    "    plt.fill_between(param_range, train_score_mean - train_score_std, \n",
    "                     train_score_mean + train_score_std, color = 'lightgreen')\n",
    "    \n",
    "    plt.plot(param_range, test_score_mean, label = \"Training Score\",\n",
    "             color = 'darkblue')\n",
    "    plt.fill_between(param_range, test_score_mean - test_score_std, \n",
    "                     test_score_mean + test_score_std, color = 'lightgreen')\n",
    "    \n",
    "    plt.title(str(model))\n",
    "    plt.xlabel(param_name)\n",
    "    plt.ylabel('Score')\n",
    "    plt.tight_layout()\n",
    "    plt.legend(loc = 'best')"
   ]
  },
  {
   "cell_type": "markdown",
   "metadata": {},
   "source": [
    "#### Split back into Train and Test dataset"
   ]
  },
  {
   "cell_type": "code",
   "execution_count": 247,
   "metadata": {},
   "outputs": [],
   "source": [
    "X_train = X[X.train_test == 1].drop(['train_test'], axis=1)\n",
    "X_test = X[X.train_test == 0].drop(['train_test'], axis=1)"
   ]
  },
  {
   "cell_type": "markdown",
   "metadata": {},
   "source": [
    "#### Apply log transformation on SalePrice to reduce the skewage"
   ]
  },
  {
   "cell_type": "code",
   "execution_count": 248,
   "metadata": {},
   "outputs": [
    {
     "data": {
      "text/plain": [
       "<Axes: xlabel='SalePrice', ylabel='Count'>"
      ]
     },
     "execution_count": 248,
     "metadata": {},
     "output_type": "execute_result"
    },
    {
     "data": {
      "image/png": "[encoded data removed]",
      "text/plain": [
       "<Figure size 640x480 with 1 Axes>"
      ]
     },
     "metadata": {},
     "output_type": "display_data"
    }
   ],
   "source": [
    "y = np.log(y)\n",
    "sns.histplot(y, kde = True)"
   ]
  },
  {
   "cell_type": "markdown",
   "metadata": {},
   "source": [
    "#### Removing train constant and quasi-constant columns which may overfit the data. MSZoning_C is example of this, it is over 99% 0s but has very large coefficients in my model"
   ]
  },
  {
   "cell_type": "markdown",
   "metadata": {},
   "source": [
    "#### Over 99.94% Corresponds to Constant. Over 99.93% Corresponds to all constant but 1. Over 99.86% corresponds to all constant but 2. Over 99.79% corresponds to all constant but 3. And so on..."
   ]
  },
  {
   "cell_type": "code",
   "execution_count": 249,
   "metadata": {},
   "outputs": [
    {
     "name": "stdout",
     "output_type": "stream",
     "text": [
      "['HasAlley', 'MSSubClass_150', 'MSZoning_C (all)']\n"
     ]
    }
   ],
   "source": [
    "overfit = []\n",
    "for i in X_train.columns:\n",
    "    counts = X_train[i].value_counts()\n",
    "    zeros = counts.iloc[0]\n",
    "    if zeros / len(X_train) > 0.9994:\n",
    "        overfit.append(i)\n",
    "overfit.append(\"MSZoning_C (all)\") # Largest coefficients in Regularization models but mostly 0\n",
    "print(overfit)"
   ]
  },
  {
   "cell_type": "code",
   "execution_count": 250,
   "metadata": {},
   "outputs": [],
   "source": [
    "X_train = X_train.drop(overfit, axis = 1)\n",
    "X_test = X_test.drop(overfit, axis = 1)"
   ]
  },
  {
   "cell_type": "markdown",
   "metadata": {},
   "source": [
    "#### Try applying PCA as we have a large number of correlated features. This didn't improve results so I have not used it"
   ]
  },
  {
   "cell_type": "code",
   "execution_count": 252,
   "metadata": {},
   "outputs": [
    {
     "name": "stdout",
     "output_type": "stream",
     "text": [
      "280\n"
     ]
    }
   ],
   "source": [
    "from sklearn.decomposition import PCA\n",
    "print(len(X_train.columns))\n",
    "\n",
    "pca = PCA()\n",
    "\n",
    "X_train = pca.fit_transform(X_train)\n",
    "X_test = pca.transform(X_test)\n",
    "\n",
    "component_names = [f\"PC{i+1}\" for i in range(X_train.shape[1])]\n",
    "\n",
    "X_train = pd.DataFrame(X_train, columns=component_names, index = X_train.index)\n",
    "\n",
    "component_names = [f\"PC{i+1}\" for i in range(X_test.shape[1])]\n",
    "\n",
    "X_test = pd.DataFrame(X_test, columns=component_names, index = X_test.index)\n"
   ]
  },
  {
   "cell_type": "markdown",
   "metadata": {},
   "source": [
    "#### Finally, remove outliers which were found to have a negative impact on the regression. I will only remove the very worst outliers which sigma >=4 to start with. Removing outliers with sigma >= 3 made results worse on LB but I will try remove outliers shared between models at this sigma at a later stage"
   ]
  },
  {
   "cell_type": "code",
   "execution_count": 253,
   "metadata": {},
   "outputs": [],
   "source": [
    "def rmse(y_true, y_pred):\n",
    "    diff = y_pred - y_true\n",
    "    sum_sq = sum(diff ** 2)\n",
    "    \n",
    "    return np.sqrt(sum_sq / len(y_pred))\n",
    "\n",
    "# RMSE(sigma^) = sqrt(MSE(sigma^)) = sqrt(E[(sigma^ - sigma)^2])"
   ]
  },
  {
   "cell_type": "code",
   "execution_count": null,
   "metadata": {},
   "outputs": [],
   "source": [
    "def find_outliers(model, X_train, y, sigma):\n",
    "    # predict y values using model\n",
    "    try:\n",
    "        y_pred = pd.Series(model.predict(X_train), index = y.index)\n",
    "    # if predicting fails, try fitting the model first\n",
    "    except:\n",
    "        model.fit(X_train, y)\n",
    "        y_pred = pd.Series(model.predict(X_train), index = y.index)\n",
    "        \n",
    "    # calculate residuals between the model prediction and true y values\n",
    "    resid = y - y_pred\n",
    "    mean_resid = np.mean(resid)\n",
    "    std_resid = np.std(resid)\n",
    "    \n",
    "    # calculate z statistics, define outliers to be where |z| > sigma\n",
    "    z = (resid - np.mean(resid)) / np.std(resid)\n",
    "    \n",
    "    outliers = z[abs(z) > sigma].index\n",
    "    \n",
    "    # print and plot the results\n",
    "    print(str(model))\n",
    "    print('R2=',model.score(X_train,y))\n",
    "    print('rmse=',rmse(y, y_pred))\n",
    "    print('mean of residuals:',resid)\n",
    "    print('std of residuals:',std_resid)\n",
    "    print('---------------------------------------')\n",
    "\n",
    "    print(len(outliers),'outliers:')\n",
    "    print(outliers.tolist())\n",
    "    print('---------------------------------------')\n",
    "    \n",
    "    plt.figure(figsize=(15,5))\n",
    "    ax_131 = plt.subplot(1,3,1)\n",
    "    plt.plot(y,y_pred,'.')\n",
    "    plt.plot(y.loc[outliers],y_pred.loc[outliers],'ro')\n",
    "    plt.legend(['Accepted','Outlier'])\n",
    "    plt.xlabel('y')\n",
    "    plt.ylabel('y_pred');\n",
    "    plt.title(str(model))\n",
    "    \n",
    "    ax_132 = plt.subplot(1,3,2)\n",
    "    plt.plot(y,y-y_pred,'.')\n",
    "    plt.plot(y.loc[outliers],y.loc[outliers]-y_pred.loc[outliers],'ro')\n",
    "    plt.legend(['Accepted','Outlier'])\n",
    "    plt.xlabel('y')\n",
    "    plt.ylabel('y - y_pred');\n",
    "    plt.title(str(model))\n",
    "    \n",
    "    ax_133 = plt.subplot(1,3,3)\n",
    "    z.plot.hist(bins=50,ax=ax_133)\n",
    "    z.loc[outliers].plot.hist(color='r',bins=50,ax=ax_133)\n",
    "    plt.legend(['Accepted','Outlier'])\n",
    "    plt.xlabel('z')\n",
    "    plt.title(str(model))\n",
    "    \n",
    "    return outliers.tolist()\n",
    "    "
   ]
  }
 ],
 "metadata": {
  "kernelspec": {
   "display_name": "base",
   "language": "python",
   "name": "python3"
  },
  "language_info": {
   "codemirror_mode": {
    "name": "ipython",
    "version": 3
   },
   "file_extension": ".py",
   "mimetype": "text/x-python",
   "name": "python",
   "nbconvert_exporter": "python",
   "pygments_lexer": "ipython3",
   "version": "3.11.5"
  }
 },
 "nbformat": 4,
 "nbformat_minor": 2
}
